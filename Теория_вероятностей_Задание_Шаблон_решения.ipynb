{
 "cells": [
  {
   "cell_type": "code",
   "execution_count": 55,
   "metadata": {},
   "outputs": [],
   "source": [
    "# ваши импорты\n",
    "import matplotlib.pyplot as plt\n",
    "import pandas as pd\n",
    "import random\n",
    "from scipy import stats as st\n",
    "import numpy as np"
   ]
  },
  {
   "cell_type": "markdown",
   "metadata": {},
   "source": [
    "### Задача 1."
   ]
  },
  {
   "cell_type": "markdown",
   "metadata": {},
   "source": [
    "В револьвере вставлены два патрона подряд. Первый участник русской рулетки после выстрела остался жив. Что следует сделать второму участнику: случайно прокрутить барабан перед выстрелом или выстрелить сразу?"
   ]
  },
  {
   "cell_type": "markdown",
   "metadata": {},
   "source": [
    "В рамках решения этой задачи мы будем сравнивать 2 вероятности:\n",
    "- остаться в живых, если произвольно покрутил барабан\n",
    "- остаться в живых, если выстрелил сразу после первого участника\n",
    "\n",
    "Рассчитаем первую.  \n",
    "После выстрела в барабане с шестью ячейками все еще два патрона. Второй участник произвольно крутит барабан. Какова вероятность, что он останется в живых после выстрела? Рассчитайте вероятность, обозначьте ее p_1 и выведите значение этой переменной на экран."
   ]
  },
  {
   "cell_type": "code",
   "execution_count": 2,
   "metadata": {},
   "outputs": [
    {
     "name": "stdout",
     "output_type": "stream",
     "text": [
      "0.6666666666666666\n"
     ]
    }
   ],
   "source": [
    "p_1 = 4/6\n",
    "print(p_1)"
   ]
  },
  {
   "cell_type": "markdown",
   "metadata": {},
   "source": [
    "Чтобы рассчитать вероятность второго события, сформируем множество всех элементарных исходов, обозначая 0 ячейки без пуль и X ячейки с пулями:\n",
    "\n",
    "- X 0 0 0 0 X\n",
    "- 0 0 0 0 X X\n",
    "- 0 0 0 X X 0\n",
    "- 0 0 X X 0 0\n",
    "- 0 X X 0 0 0\n",
    "- X X 0 0 0 0\n",
    "\n",
    "Два из этих исходов невозможны с учетом, что один игрок уже выстрелил и остался в живых. Посчитайте количество оставшихся исходов, а также количество таких, при которых второй игрок выжевет. Рассчитайте итоговую вероятность выжить для второго игрока, если он не будет крутить барабан после первого, запишите ее в переменную p_2 и выведите ее значение на экран."
   ]
  },
  {
   "cell_type": "code",
   "execution_count": 5,
   "metadata": {},
   "outputs": [
    {
     "name": "stdout",
     "output_type": "stream",
     "text": [
      "0.75\n"
     ]
    }
   ],
   "source": [
    "p_2 = 3/4\n",
    "print(p_2)"
   ]
  },
  {
   "cell_type": "markdown",
   "metadata": {},
   "source": [
    "Сравните полученные вероятности и скажите, что лучше сделать второму игроку, чтобы выжить."
   ]
  },
  {
   "cell_type": "code",
   "execution_count": 8,
   "metadata": {},
   "outputs": [
    {
     "name": "stdout",
     "output_type": "stream",
     "text": [
      "Второму игроку лучше стрелять и не крутить\n"
     ]
    }
   ],
   "source": [
    "if(p_1>p_2):\n",
    "    print(\"Второму игроку лучше крутить барабан\")\n",
    "elif(p_2>p_1):\n",
    "    print(\"Второму игроку лучше стрелять и не крутить\")"
   ]
  },
  {
   "cell_type": "markdown",
   "metadata": {},
   "source": [
    "### Задача 2. \n",
    "\n",
    "Вася пришел на автобусную остановку, чтобы поехать в гости к бабушке в деревню. Он знает, что вероятность того, что автобус приедет за 30 минут, составляет 95%. Но он решил столько не ждать, а вызвать такси, если автобус не приедет в течение пятнадцати минут. Какова вероятность, что Вася не поедет к бабушке на такси?"
   ]
  },
  {
   "cell_type": "markdown",
   "metadata": {},
   "source": [
    "Сначала давайте ответим на вопрос: какова вероятность того, что автобус НЕ приедет в течение 30 минут? Это событие является противоположным к событию \"автобус приедет в течение 30 минут\". Посчитайте эту вероятность и запишите в переменную p_1, а затем выведите ее значение на экран."
   ]
  },
  {
   "cell_type": "code",
   "execution_count": 15,
   "metadata": {},
   "outputs": [
    {
     "name": "stdout",
     "output_type": "stream",
     "text": [
      "0.05\n"
     ]
    }
   ],
   "source": [
    "p_1=round(1-0.95,2)\n",
    "print(p_1)"
   ]
  },
  {
   "cell_type": "markdown",
   "metadata": {},
   "source": [
    "Теперь давайте порассуждаем. Чтобы случилось событие \"автобус не приедет в течение тридати минут\", должно произойти два события:\n",
    "- автобус не приезжает первые 15 минут\n",
    "- автобус не приезжает вторые 15 минут\n",
    "\n",
    "Все эти события независимы, то есть вероятность того, что случатся они все, равна произведению их вероятностей. Также их все можно переформулировать в \"автобус не приедет в течение 15 минут\". Обозначьте эту вероятность p_2, рассчитайте и выведите на экран."
   ]
  },
  {
   "cell_type": "code",
   "execution_count": 30,
   "metadata": {},
   "outputs": [
    {
     "name": "stdout",
     "output_type": "stream",
     "text": [
      "0.22360679774997896\n"
     ]
    }
   ],
   "source": [
    "p_2 = p_1**0.5\n",
    "print(p_2)"
   ]
  },
  {
   "cell_type": "markdown",
   "metadata": {},
   "source": [
    "Мы знаем вероятность того, что автобус не приедет в течение 15 минут. Но нам нужна вероятность того, что Вася все таки поедет к бабушке на автобусе. Рассчитайте ее, запишите в переменную p_3 и выведите ее значение на экран."
   ]
  },
  {
   "cell_type": "code",
   "execution_count": 31,
   "metadata": {},
   "outputs": [
    {
     "name": "stdout",
     "output_type": "stream",
     "text": [
      "0.776\n"
     ]
    }
   ],
   "source": [
    "p_3 = round(1-p_2,3)\n",
    "print(p_3)"
   ]
  },
  {
   "cell_type": "markdown",
   "metadata": {},
   "source": [
    "### Задача 3."
   ]
  },
  {
   "cell_type": "markdown",
   "metadata": {},
   "source": [
    "С помощью [данных](https://www.kaggle.com/datasets/burnoutminer/heights-and-weights-dataset) о весе людей в возрасте 18 лет ответьте на два вопроса:\n",
    "- у какой доли людей в этом возрасте вес не превышает 50кг?\n",
    "- какого веса не имеет 70 процентов людей?"
   ]
  },
  {
   "cell_type": "code",
   "execution_count": 38,
   "metadata": {},
   "outputs": [],
   "source": [
    "# считываем данные, переводим вес в килограммы и оставляем только нужный столбец\n",
    "data=pd.read_csv('C:/Users/molot/Downloads/archive/SOCR-HeightWeight.csv')\n",
    "# ваш код с загрузкой и предобработкой данных\n",
    "data['Weight(kg)']=data['Weight(Pounds)']*0.4536"
   ]
  },
  {
   "cell_type": "code",
   "execution_count": 43,
   "metadata": {},
   "outputs": [
    {
     "data": {
      "text/plain": [
       "<Axes: >"
      ]
     },
     "execution_count": 43,
     "metadata": {},
     "output_type": "execute_result"
    },
    {
     "data": {
      "image/png": "[encoded data removed]",
      "text/plain": [
       "<Figure size 640x480 with 1 Axes>"
      ]
     },
     "metadata": {},
     "output_type": "display_data"
    }
   ],
   "source": [
    "# убедимся, что вес имеет нормальное распраделение\n",
    "data['Weight(kg)'].hist(bins=30)\n",
    "# ваш код c гистограммой"
   ]
  },
  {
   "cell_type": "code",
   "execution_count": 52,
   "metadata": {},
   "outputs": [
    {
     "data": {
      "text/plain": [
       "<Axes: >"
      ]
     },
     "execution_count": 52,
     "metadata": {},
     "output_type": "execute_result"
    },
    {
     "data": {
      "image/png": "[encoded data removed]",
      "text/plain": [
       "<Figure size 640x480 with 1 Axes>"
      ]
     },
     "metadata": {},
     "output_type": "display_data"
    }
   ],
   "source": [
    "# определяем параметры нормального распределения по имеющейся выборке и визуализируем полученное распределение, чтобы убедиться, что мы все подобрали корректно\n",
    "weights=[]\n",
    "mean_weights=data['Weight(kg)'].mean()\n",
    "sign_weights=data['Weight(kg)'].std()\n",
    "for i in range(data.shape[0]):\n",
    "    weights.append(random.normalvariate(mu=mean_weights, sigma=sign_weights))\n",
    "weights=pd.Series(weights)\n",
    "# ваш код с определением параметров рапределения и его инициализацией\n",
    "weight_range=[data['Weight(kg)'].min(), data['Weight(kg)'].max()]\n",
    "data['Weight(kg)'].hist(bins=30, range=weight_range)\n",
    "weights.hist(bins=30, histtype='step', color='red', range=weight_range)\n",
    "# ваш код с визуализацией, подтверждующей соответствие распределения исходным данным"
   ]
  },
  {
   "cell_type": "markdown",
   "metadata": {},
   "source": [
    "Вероятность того, что вес не превышает 50кг?"
   ]
  },
  {
   "cell_type": "code",
   "execution_count": 59,
   "metadata": {},
   "outputs": [
    {
     "data": {
      "text/plain": [
       "0.07422716893518833"
      ]
     },
     "execution_count": 59,
     "metadata": {},
     "output_type": "execute_result"
    }
   ],
   "source": [
    "# ваш код\n",
    "weight_distr=st.norm(mean_weights, sign_weights)\n",
    "weight_distr.cdf(50)"
   ]
  },
  {
   "cell_type": "markdown",
   "metadata": {},
   "source": [
    "Какого веса не имеет 70% людей?"
   ]
  },
  {
   "cell_type": "code",
   "execution_count": 60,
   "metadata": {},
   "outputs": [
    {
     "data": {
      "text/plain": [
       "54.86947021071381"
      ]
     },
     "execution_count": 60,
     "metadata": {},
     "output_type": "execute_result"
    }
   ],
   "source": [
    "# ваш код\n",
    "weight_distr.ppf(1-0.7)"
   ]
  }
 ],
 "metadata": {
  "kernelspec": {
   "display_name": "env_o3_l2r_pipelines",
   "language": "python",
   "name": "env_o3_l2r_pipelines"
  },
  "language_info": {
   "codemirror_mode": {
    "name": "ipython",
    "version": 3
   },
   "file_extension": ".py",
   "mimetype": "text/x-python",
   "name": "python",
   "nbconvert_exporter": "python",
   "pygments_lexer": "ipython3",
   "version": "3.8.12"
  },
  "toc": {
   "base_numbering": 1,
   "nav_menu": {},
   "number_sections": false,
   "sideBar": false,
   "skip_h1_title": false,
   "title_cell": "Table of Contents",
   "title_sidebar": "Contents",
   "toc_cell": false,
   "toc_position": {},
   "toc_section_display": false,
   "toc_window_display": false
  }
 },
 "nbformat": 4,
 "nbformat_minor": 4
}
