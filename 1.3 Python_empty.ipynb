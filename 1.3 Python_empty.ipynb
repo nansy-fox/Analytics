{
 "cells": [
  {
   "cell_type": "markdown",
   "id": "71926fa4",
   "metadata": {},
   "source": [
    "## Задачи с типами данных"
   ]
  },
  {
   "cell_type": "markdown",
   "id": "b8e5e569",
   "metadata": {},
   "source": [
    "*В задачах, где в формулировке требуется запрашивать данные у пользователя - не обязательно использовать метод input*"
   ]
  },
  {
   "cell_type": "markdown",
   "id": "f5254f14",
   "metadata": {},
   "source": [
    "**1. Напишите программу, которая запрашивает у пользователя два числа, складывает их и выводит результат на экран. Затем программа должна запросить у пользователя две строки и объединить их в одну, после чего вывести результат на экран.**\n",
    "\n",
    "Пример результата выполнения программы:\n",
    "```\n",
    "Сумма: 30\n",
    "Объединенная строка: Hello world!\n",
    "```"
   ]
  },
  {
   "cell_type": "code",
   "execution_count": 3,
   "id": "f2ec674e",
   "metadata": {},
   "outputs": [
    {
     "name": "stdout",
     "output_type": "stream",
     "text": [
      "Сумма: 30\n",
      "Объединенная строка: HelloWord\n"
     ]
    }
   ],
   "source": [
    "#code\n",
    "string=input (\"Введите 2 числа через пробел\")\n",
    "numbers=string.split()\n",
    "a=int(numbers[0])\n",
    "b=int(numbers[1])\n",
    "print(\"Сумма:\", a+b)\n",
    "str1=input()\n",
    "str2=input()\n",
    "print(\"Объединенная строка:\", str1+\" \"+str2)"
   ]
  },
  {
   "cell_type": "markdown",
   "id": "22d684a6",
   "metadata": {},
   "source": [
    "**2. Напишите программу, которая запрашивает у пользователя количество фотографий, сделанных, например, за декабрь, январь и февраль, а затем выводит эти данные на экран. Также программа должна вывести сумму и среднее количество фотографий, сделанных за весь сезон.**"
   ]
  },
  {
   "cell_type": "markdown",
   "id": "e62a4a67",
   "metadata": {},
   "source": [
    "Пример выполнения программы:\n",
    "```\n",
    "Сколько фотографий Вы сделали в декабре? 145\n",
    "Сколько фотографий Вы сделали в январе? 201\n",
    "Сколько фотографий Вы сделали в феврале? 97\n",
    "\n",
    "За зимний сезон Вы сделали 443 фотографий!\n",
    "В среднем, Вы сделали 147.67 фотографий в месяц!\n",
    "```"
   ]
  },
  {
   "cell_type": "code",
   "execution_count": 17,
   "id": "30c98eae",
   "metadata": {},
   "outputs": [
    {
     "name": "stdout",
     "output_type": "stream",
     "text": [
      "Сколько фотографий Вы сделали в декабре? 5\n",
      "Сколько фотографий Вы сделали в январе? 6\n",
      "Сколько фотографий Вы сделали в феврале? 7\n",
      "За зимний сезон вы сделали 18 фотографий\n",
      "В среднем вы сделали 6.0 фотографий в месяц!\n"
     ]
    }
   ],
   "source": [
    "#code\n",
    "month=[\"декабре\",\"январе\",\"феврале\"]\n",
    "col=[]\n",
    "col.append(input(f\"Сколько фотографий Вы сделали в {month[0]}?\"))\n",
    "col.append(input(f\"Сколько фотографий Вы сделали в {month[1]}?\"))\n",
    "col.append(input(f\"Сколько фотографий Вы сделали в {month[2]}?\"))\n",
    "total=0\n",
    "for j in range(3):\n",
    "    print(f\"Сколько фотографий Вы сделали в {month[j]}?\", col[j])\n",
    "    total+=int(col[j])\n",
    "print(f\"За зимний сезон вы сделали {total} фотографий\")\n",
    "print(f\"В среднем вы сделали {total/3} фотографий в месяц!\")"
   ]
  },
  {
   "cell_type": "markdown",
   "id": "ad6a9045",
   "metadata": {},
   "source": [
    "**3. Создайте такую структуру данных, выводом которой будет являться жанр того фильма, к которому обратился пользователь (необязательно связывать с кинематографом). Также приведите пример вывода данных.**"
   ]
  },
  {
   "cell_type": "markdown",
   "id": "7de979f8",
   "metadata": {},
   "source": [
    "Шаблон структуры данных:"
   ]
  },
  {
   "cell_type": "markdown",
   "id": "e0aa89cd",
   "metadata": {},
   "source": [
    "```\n",
    "{\n",
    "  'Название фильма': 'Жанр фильма',\n",
    "  'Название фильма': 'Жанр фильма',\n",
    "  ...\n",
    "}\n",
    "```"
   ]
  },
  {
   "cell_type": "markdown",
   "id": "233893cf",
   "metadata": {},
   "source": [
    "Пример вывода:"
   ]
  },
  {
   "cell_type": "markdown",
   "id": "25a5dc0d",
   "metadata": {},
   "source": [
    "Мой любимый фильм \"Терминатор\", он исполнен в жанре \"Боевик\""
   ]
  },
  {
   "cell_type": "code",
   "execution_count": 21,
   "id": "cda6f64a",
   "metadata": {},
   "outputs": [
    {
     "name": "stdout",
     "output_type": "stream",
     "text": [
      "Выберите фильм и введите его название ['Тарантул', 'Риссомаха', 'Манул']\n",
      "Мой любимый фильм Тарантул, он исполнен в жанре Боевик\n"
     ]
    }
   ],
   "source": [
    "#code\n",
    "films={'Тарантул': 'Боевик','Риссомаха': 'фентези', 'Манул': 'комедия'}\n",
    "print(\"Выберите фильм и введите его название\", list(films.keys()))\n",
    "film=input()\n",
    "for i in films:\n",
    "    if film==i:\n",
    "        print(f\"Мой любимый фильм {i}, он исполнен в жанре {films[i]}\")"
   ]
  },
  {
   "cell_type": "markdown",
   "id": "2831e565",
   "metadata": {},
   "source": [
    "## Условный оператор if...else"
   ]
  },
  {
   "cell_type": "markdown",
   "id": "9a9ae7b8",
   "metadata": {},
   "source": [
    "**4. Напишите программу, в которой пользователь должен указать свой возраст, а на выходе получить ответ - совершеннолетний он или нет.**"
   ]
  },
  {
   "cell_type": "code",
   "execution_count": 23,
   "id": "15b0dd72",
   "metadata": {},
   "outputs": [
    {
     "name": "stdout",
     "output_type": "stream",
     "text": [
      "Совершеннолетний\n"
     ]
    }
   ],
   "source": [
    "#code\n",
    "age=input()\n",
    "if(int(age)>=18):\n",
    "    print(\"Совершеннолетний\")\n",
    "else:\n",
    "    print(\"Несовершеннолетний\")"
   ]
  },
  {
   "cell_type": "markdown",
   "id": "725dae15",
   "metadata": {},
   "source": [
    "**5. Напишите программу, в которую необходимо ввести два числа и операцию, которую нужно провести между ними. На выходе должен получиться результат выбранной операции. \n",
    "`Усложнение`: защитите программу от ошибки в случае некорректности данных.**"
   ]
  },
  {
   "cell_type": "code",
   "execution_count": 28,
   "id": "ac373ab4",
   "metadata": {},
   "outputs": [
    {
     "name": "stdout",
     "output_type": "stream",
     "text": [
      "Деление на ноль невозможно!\n"
     ]
    }
   ],
   "source": [
    "#code\n",
    "a=input()\n",
    "operation=input()\n",
    "b=input()\n",
    "if operation==\"+\":\n",
    "    print(a, operation, b, \"=\",int(a)+int(b))\n",
    "elif operation==\"-\":\n",
    "    print(a, operation, b, \"=\",int(a)-int(b))\n",
    "elif operation==\"/\":\n",
    "    if(int(b)!=0):\n",
    "        print(a, operation, b, \"=\",int(a)/int(b))\n",
    "    else:\n",
    "        print(\"Деление на ноль невозможно!\")\n",
    "elif operation==\"*\":\n",
    "    print(a, operation, b, \"=\",int(a)*int(b))"
   ]
  },
  {
   "cell_type": "markdown",
   "id": "42914d0e",
   "metadata": {},
   "source": [
    "##  Цикл For"
   ]
  },
  {
   "cell_type": "markdown",
   "id": "0f07e442",
   "metadata": {},
   "source": [
    "**6. Напишите программу, которая на вход получает список значений (от 5 до 10 будет достаточно). Затем все элементы списка должны быть возведены в квадрат и выведены на экран поочереди. `Для усложнения`: создайте список, в котором будут ошибочные типы данных и защитите программу от ошибки.**"
   ]
  },
  {
   "cell_type": "markdown",
   "id": "c9788bf7",
   "metadata": {},
   "source": [
    "Пример выполнения программы:"
   ]
  },
  {
   "cell_type": "markdown",
   "id": "fcaae7b1",
   "metadata": {},
   "source": [
    "```\n",
    "квадрат числа 1 равен 1\n",
    "квадрат числа 20 равен 400\n",
    "квадрат числа 4 равен 16\n",
    "Ошибочный тип данных\n",
    "квадрат числа 16 равен 256\n",
    "квадрат числа 8 равен 64\n",
    "квадрат числа 23 равен 529\n",
    "Ошибочный тип данных\n",
    "```"
   ]
  },
  {
   "cell_type": "code",
   "execution_count": 12,
   "id": "41e0d114",
   "metadata": {},
   "outputs": [
    {
     "name": "stdout",
     "output_type": "stream",
     "text": [
      "квадрат числа 5 равен 25\n",
      "квадрат числа 6 равен 36\n",
      "квадрат числа 7 равен 49\n",
      "квадрат числа 8 равен 64\n",
      "квадрат числа 9 равен 81\n",
      "квадрат числа 10 равен 100\n"
     ]
    }
   ],
   "source": [
    "#code\n",
    "try:\n",
    "    number='5 6 7 8 9 10'\n",
    "    numbers=[int(x) for x in number.split()]\n",
    "\n",
    "    for i in numbers:\n",
    "        print(f\"квадрат числа {i} равен {i**2}\")\n",
    "except ValueError:\n",
    "        print(\"Ошибочный тип данных\")        "
   ]
  },
  {
   "cell_type": "markdown",
   "id": "b9159cf2",
   "metadata": {},
   "source": [
    "**7. Целью следующей программы будет создание цикла в цикле. На вход должна поступить последовательность чисел. На выходе должна получиться последовательность чисел, которая будет являться результатом перемножения всех чисел в списке друг на друга.**"
   ]
  },
  {
   "cell_type": "markdown",
   "id": "6a7bb1e7",
   "metadata": {},
   "source": [
    "Например при перемножении всех значений друг на друга от 1 до 3 должен получиться подобный список:  \n",
    "```\n",
    "[1, 2, 3, 2, 4, 6, 3, 6, 9]\n",
    "```"
   ]
  },
  {
   "cell_type": "code",
   "execution_count": 17,
   "id": "2b2947b0",
   "metadata": {},
   "outputs": [
    {
     "name": "stdout",
     "output_type": "stream",
     "text": [
      "[1, 2, 3, 2, 4, 6, 3, 6, 9]\n"
     ]
    }
   ],
   "source": [
    "#code\n",
    "numbers=[1,2,3]\n",
    "result=[]\n",
    "for i in numbers:\n",
    "    for j in numbers:\n",
    "        result.append(i*j)\n",
    "print(result)"
   ]
  },
  {
   "cell_type": "markdown",
   "id": "78101fe1",
   "metadata": {},
   "source": [
    "**8. Напишите программу, которая получает на вход список чисел, а затем определяет каждое число на предмет того, чётное оно или нечетное.**"
   ]
  },
  {
   "cell_type": "markdown",
   "id": "2ca3dc30",
   "metadata": {},
   "source": [
    "пример строки и вывода:"
   ]
  },
  {
   "cell_type": "markdown",
   "id": "8b18bd36",
   "metadata": {},
   "source": [
    "```\n",
    "lst = [2, 6, 7, 23, 908, 67, 33, 777]\n",
    "число чётное\n",
    "число чётное\n",
    "число нечётное\n",
    "число нечётное\n",
    "число чётное\n",
    "число нечётное\n",
    "число нечётное\n",
    "число нечётное\n",
    "```"
   ]
  },
  {
   "cell_type": "code",
   "execution_count": 19,
   "id": "16a287d9",
   "metadata": {},
   "outputs": [
    {
     "name": "stdout",
     "output_type": "stream",
     "text": [
      "число нечетное\n",
      "число четное\n",
      "число нечетное\n",
      "число четное\n",
      "число нечетное\n",
      "число четное\n",
      "число нечетное\n",
      "число четное\n"
     ]
    }
   ],
   "source": [
    "#code\n",
    "numbers2=[1,2,3,4,5,6,7,8]\n",
    "for i in numbers2:\n",
    "    if int(i)%2==0:\n",
    "        print(\"число четное\")\n",
    "    else:\n",
    "        print(\"число нечетное\")"
   ]
  },
  {
   "cell_type": "markdown",
   "id": "c69d346f",
   "metadata": {},
   "source": [
    "##  Функции"
   ]
  },
  {
   "cell_type": "markdown",
   "id": "86320b9a",
   "metadata": {},
   "source": [
    "**9. Интерпретируйте задачу № 5, то есть создайте функцию, в которую Вы будете закладывать два числа и оператор, а на выход получать необходимый результат.**"
   ]
  },
  {
   "cell_type": "code",
   "execution_count": 24,
   "id": "008bfafb",
   "metadata": {},
   "outputs": [
    {
     "name": "stdout",
     "output_type": "stream",
     "text": [
      "1 + 2 = 3\n"
     ]
    }
   ],
   "source": [
    "#code\n",
    "def func(a,operator,b):\n",
    "    if operator==\"+\":\n",
    "        print(a, operator, b, \"=\",int(a)+int(b))\n",
    "    elif operator==\"-\":\n",
    "        print(a, operator, b, \"=\",int(a)-int(b))\n",
    "    elif operator==\"/\":\n",
    "        if(int(b)!=0):\n",
    "            print(a, operator, b, \"=\",int(a)/int(b))\n",
    "        else:\n",
    "            print(\"Деление на ноль невозможно!\")\n",
    "    elif operator==\"*\":\n",
    "        print(a, operator, b, \"=\",int(a)*int(b))\n",
    "func(1,\"+\",2)"
   ]
  },
  {
   "cell_type": "markdown",
   "id": "888df09e",
   "metadata": {},
   "source": [
    "**10.Напишите функцию, которая принимает на вход два списка и объединяет их в один список, удаляя при этом дубликаты элементов. Для удаления дубликатов воспользуйтесь методом set()**"
   ]
  },
  {
   "cell_type": "code",
   "execution_count": 26,
   "id": "004d663c",
   "metadata": {},
   "outputs": [
    {
     "name": "stdout",
     "output_type": "stream",
     "text": [
      "{1, 2, 3, 4, 5, 6}\n"
     ]
    }
   ],
   "source": [
    "#code\n",
    "def function(spisok1, spisok2):\n",
    "    print(set(spisok1+spisok2))\n",
    "function([1,2,3,4],[2,4,5,6])"
   ]
  },
  {
   "cell_type": "markdown",
   "id": "9e3727c4",
   "metadata": {},
   "source": [
    "**11. Напишите функцию, которая будет принимать на вход два списка, а возвращать только общие элементы этих списков.**"
   ]
  },
  {
   "cell_type": "code",
   "execution_count": 37,
   "id": "b100b23a",
   "metadata": {},
   "outputs": [
    {
     "data": {
      "text/plain": [
       "{2, 4}"
      ]
     },
     "execution_count": 37,
     "metadata": {},
     "output_type": "execute_result"
    }
   ],
   "source": [
    "#code\n",
    "def function2(spisok1, spisok2):    \n",
    "    one_set = set(spisok1)\n",
    "    two_set = set(spisok2)\n",
    "    return(one_set.intersection(two_set))  \n",
    "function2([1,2,3,4],[2,4,5,6])"
   ]
  }
 ],
 "metadata": {
  "kernelspec": {
   "display_name": "Python 3 (ipykernel)",
   "language": "python",
   "name": "python3"
  },
  "language_info": {
   "codemirror_mode": {
    "name": "ipython",
    "version": 3
   },
   "file_extension": ".py",
   "mimetype": "text/x-python",
   "name": "python",
   "nbconvert_exporter": "python",
   "pygments_lexer": "ipython3",
   "version": "3.12.2"
  }
 },
 "nbformat": 4,
 "nbformat_minor": 5
}
