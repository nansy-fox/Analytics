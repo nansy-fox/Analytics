{
 "cells": [
  {
   "cell_type": "code",
   "execution_count": 19,
   "metadata": {},
   "outputs": [],
   "source": [
    "import sqlite3\n",
    "import pandas as pd\n",
    "from scipy import stats as st\n",
    "import matplotlib.pyplot as plt\n",
    "import pandasql as ps\n",
    "cnx = sqlite3.connect('C:/Users/molot/Downloads/archive/database.sqlite')\n",
    "match_df=pd.read_sql_query('''SELECT (home_team_goal+away_team_goal) AS sum_team_goal FROM League AS l JOIN \"Match\" AS m ON l.id==m.league_id AND m.league_id==10257''', cnx).squeeze()\n",
    "#match_df\n"
   ]
  },
  {
   "cell_type": "markdown",
   "metadata": {},
   "source": [
    "1. Очень часто коллеги упоминают Серию А. Может, она действительно интересная? Посмотрите, сколько там забивают суммарно голов за матч. Постройте гистограмму соответствующего данным типа. Оцените скошенность распределения визуально и подтвердите или опровергните свою гипотезу о скошенности, вычислив среднее, медиану и моду для проверки правила об их соотношении."
   ]
  },
  {
   "cell_type": "code",
   "execution_count": 23,
   "metadata": {},
   "outputs": [
    {
     "name": "stdout",
     "output_type": "stream",
     "text": [
      "Распределение скошено влево\n",
      "Среднее: 2.6168379184620485 \n",
      "Мединана: 2.0 \n",
      "Мода: [2]\n",
      "Скошенность: 0.5970231915050065\n"
     ]
    },
    {
     "data": {
      "image/png": "[encoded data removed]",
      "text/plain": [
       "<Figure size 640x480 with 1 Axes>"
      ]
     },
     "metadata": {},
     "output_type": "display_data"
    }
   ],
   "source": [
    "#analyse_date=match_df['home_team_goal']\n",
    "match_df.hist(bins=10)\n",
    "mean_goal=match_df.mean()\n",
    "print(f\"Среднее: {mean_goal} \\nМединана: {match_df.median()} \\nМода: {list(match_df.mode())}\")\n",
    "print(f\"Скошенность: {st.skew(match_df)}\")"
   ]
  },
  {
   "cell_type": "markdown",
   "metadata": {},
   "source": [
    "Вывод:\n",
    "Визуально и программно доказано, что распределение данных о количестве забитых за матч мячей скошено влево. Среднее больше Медианы и равно моде. Хвост справа длинее, чем слева"
   ]
  },
  {
   "cell_type": "markdown",
   "metadata": {},
   "source": [
    "2. Не так уж много голов забивается в Серии А, а в каких лигах забивается в среднем голов за матч больше? Выведите их названия."
   ]
  },
  {
   "cell_type": "code",
   "execution_count": 24,
   "metadata": {},
   "outputs": [
    {
     "name": "stdout",
     "output_type": "stream",
     "text": [
      "больше голов за матч в среднем забивают:\n"
     ]
    },
    {
     "data": {
      "text/plain": [
       "['Belgium Jupiler League',\n",
       " 'England Premier League',\n",
       " 'Germany 1. Bundesliga',\n",
       " 'Netherlands Eredivisie',\n",
       " 'Scotland Premier League',\n",
       " 'Spain LIGA BBVA',\n",
       " 'Switzerland Super League']"
      ]
     },
     "metadata": {},
     "output_type": "display_data"
    }
   ],
   "source": [
    "match_df_new=pd.read_sql_query(\"SELECT home_team_goal, away_team_goal, league_id FROM Match\", cnx)\n",
    "league_df=pd.read_sql_query(\"SELECT id,name FROM League\", cnx)\n",
    "match_df_new['team_goal']=match_df_new['away_team_goal']+match_df_new['home_team_goal']\n",
    "\n",
    "new_df=pd.merge(match_df_new.groupby(['league_id'], as_index=False).mean(),league_df, left_on=['league_id'], right_on=['id'])\n",
    "names=[]\n",
    "\n",
    "for i in range(len(new_df)):\n",
    "    if(new_df.iloc[i]['team_goal']>mean_goal):\n",
    "        names.append(new_df.iloc[i]['name'])\n",
    "print(f'больше голов за матч в среднем забивают:')\n",
    "display(names)"
   ]
  },
  {
   "cell_type": "markdown",
   "metadata": {},
   "source": [
    "3. Таких лиг довольно много. Выберем самую интересную лигу и самый интересный сезон в ней. Для этого посчитаем следующие показатели: \n",
    "a. сколько в среднем в каждом сезоне каждой лиги забивалось суммарно голов командами за матч\n",
    "b. сколько в среднем матчей за сезон заканчивались победой, а не ничьей."
   ]
  },
  {
   "cell_type": "code",
   "execution_count": 1,
   "metadata": {},
   "outputs": [
    {
     "ename": "NameError",
     "evalue": "name 'pd' is not defined",
     "output_type": "error",
     "traceback": [
      "\u001b[1;31m---------------------------------------------------------------------------\u001b[0m",
      "\u001b[1;31mNameError\u001b[0m                                 Traceback (most recent call last)",
      "Cell \u001b[1;32mIn[1], line 2\u001b[0m\n\u001b[0;32m      1\u001b[0m \u001b[38;5;66;03m#a\u001b[39;00m\n\u001b[1;32m----> 2\u001b[0m df\u001b[38;5;241m=\u001b[39m\u001b[43mpd\u001b[49m\u001b[38;5;241m.\u001b[39mread_sql_query(\u001b[38;5;124m\"\u001b[39m\u001b[38;5;124mSELECT * FROM Match\u001b[39m\u001b[38;5;124m\"\u001b[39m, cnx)\n\u001b[0;32m      3\u001b[0m \u001b[38;5;66;03m#pd.set_option('display.max_rows', None)\u001b[39;00m\n\u001b[0;32m      4\u001b[0m seasons\u001b[38;5;241m=\u001b[39mdf[\u001b[38;5;124m'\u001b[39m\u001b[38;5;124mseason\u001b[39m\u001b[38;5;124m'\u001b[39m]\u001b[38;5;241m.\u001b[39munique()\n",
      "\u001b[1;31mNameError\u001b[0m: name 'pd' is not defined"
     ]
    }
   ],
   "source": [
    "#a\n",
    "df=pd.read_sql_query(\"SELECT * FROM Match\", cnx)\n",
    "#pd.set_option('display.max_rows', None)\n",
    "seasons=df['season'].unique()\n",
    "display(seasons)\n",
    "\n",
    "leagus=df['league_id'].unique()\n",
    "leagus\n",
    "\n",
    "new_df_slah=df[['season','league_id','away_team_goal','home_team_goal']]\n",
    "new_df_slah['team_goal']=new_df_slah['away_team_goal']+new_df_slah['home_team_goal']\n",
    "new_df_slah\n",
    "a=new_df_slah.groupby(['season','league_id']).mean()\n",
    "display(a)\n"
   ]
  },
  {
   "cell_type": "code",
   "execution_count": 60,
   "metadata": {},
   "outputs": [
    {
     "data": {
      "text/html": [
       "<div>\n",
       "<style scoped>\n",
       "    .dataframe tbody tr th:only-of-type {\n",
       "        vertical-align: middle;\n",
       "    }\n",
       "\n",
       "    .dataframe tbody tr th {\n",
       "        vertical-align: top;\n",
       "    }\n",
       "\n",
       "    .dataframe thead th {\n",
       "        text-align: right;\n",
       "    }\n",
       "</style>\n",
       "<table border=\"1\" class=\"dataframe\">\n",
       "  <thead>\n",
       "    <tr style=\"text-align: right;\">\n",
       "      <th></th>\n",
       "      <th>season</th>\n",
       "      <th>victory</th>\n",
       "      <th>not_victory</th>\n",
       "    </tr>\n",
       "  </thead>\n",
       "  <tbody>\n",
       "    <tr>\n",
       "      <th>0</th>\n",
       "      <td>2008/2009</td>\n",
       "      <td>2495</td>\n",
       "      <td>1566</td>\n",
       "    </tr>\n",
       "    <tr>\n",
       "      <th>1</th>\n",
       "      <td>2009/2010</td>\n",
       "      <td>2416</td>\n",
       "      <td>1532</td>\n",
       "    </tr>\n",
       "    <tr>\n",
       "      <th>2</th>\n",
       "      <td>2010/2011</td>\n",
       "      <td>2421</td>\n",
       "      <td>1520</td>\n",
       "    </tr>\n",
       "    <tr>\n",
       "      <th>3</th>\n",
       "      <td>2011/2012</td>\n",
       "      <td>2402</td>\n",
       "      <td>1498</td>\n",
       "    </tr>\n",
       "    <tr>\n",
       "      <th>4</th>\n",
       "      <td>2012/2013</td>\n",
       "      <td>2407</td>\n",
       "      <td>1444</td>\n",
       "    </tr>\n",
       "    <tr>\n",
       "      <th>5</th>\n",
       "      <td>2013/2014</td>\n",
       "      <td>2296</td>\n",
       "      <td>1404</td>\n",
       "    </tr>\n",
       "    <tr>\n",
       "      <th>6</th>\n",
       "      <td>2014/2015</td>\n",
       "      <td>2475</td>\n",
       "      <td>1494</td>\n",
       "    </tr>\n",
       "    <tr>\n",
       "      <th>7</th>\n",
       "      <td>2015/2016</td>\n",
       "      <td>2471</td>\n",
       "      <td>1459</td>\n",
       "    </tr>\n",
       "  </tbody>\n",
       "</table>\n",
       "</div>"
      ],
      "text/plain": [
       "      season  victory  not_victory\n",
       "0  2008/2009     2495         1566\n",
       "1  2009/2010     2416         1532\n",
       "2  2010/2011     2421         1520\n",
       "3  2011/2012     2402         1498\n",
       "4  2012/2013     2407         1444\n",
       "5  2013/2014     2296         1404\n",
       "6  2014/2015     2475         1494\n",
       "7  2015/2016     2471         1459"
      ]
     },
     "metadata": {},
     "output_type": "display_data"
    }
   ],
   "source": [
    "#b\n",
    "pd.set_option('display.max_rows', 50)\n",
    "ks=[]\n",
    "sr=[]\n",
    "m=0\n",
    "k=0\n",
    "#for s in seasons:\n",
    " #   for l in leagus:\n",
    "  #      for i in range(len(df)):\n",
    "   #         if(df.iloc[i]['home_team_goal']!=df.iloc[i]['away_team_goal'] and df.iloc[i]['season']==s and df.iloc[i]['league_id']==l):\n",
    "    #            #display(df.iloc[i]['home_team_goal'], df.iloc[i]['away_team_goal'], df.iloc[i]['season'])\n",
    "     #           k+=1\n",
    "      #  ks.append(k)\n",
    "       # sr.append(ks[m]/len(df))\n",
    "       # k=0\n",
    "        #print(sr)\n",
    "        #m+=1\n",
    "#print(sr)\n",
    "#сколько матчей в сезоне заканчивалось победой, а не ничьей\n",
    "df_new=pd.read_sql_query(\"SELECT season, count(CASE WHEN home_team_goal>away_team_goal OR away_team_goal>home_team_goal THEN 1 END) victory, count(CASE WHEN home_team_goal>away_team_goal OR away_team_goal>home_team_goal IS NULL THEN 1 END) AS not_victory FROM Match Group by season\", cnx)\n",
    "display(df_new)\n"
   ]
  },
  {
   "cell_type": "markdown",
   "metadata": {},
   "source": [
    "4. Для каждого из двух показателей, рассчитанных в предыдущем шаге, выведите самый зрелищный сезон среди всех сезонов всех лиг."
   ]
  },
  {
   "cell_type": "code",
   "execution_count": 73,
   "metadata": {},
   "outputs": [
    {
     "name": "stderr",
     "output_type": "stream",
     "text": [
      "C:\\Users\\molot\\AppData\\Local\\Temp\\ipykernel_12644\\3893706233.py:3: FutureWarning: The provided callable <built-in function max> is currently using DataFrameGroupBy.max. In a future version of pandas, the provided callable will be used directly. To keep current behavior pass the string \"max\" instead.\n",
      "  df_group=pd.merge(new_df_slah.groupby(['season']).agg(max).sort_values(by='team_goal', ascending=False),df_new.sort_values(by='victory', ascending=False), left_on=['season'], right_on=['season'])\n"
     ]
    },
    {
     "data": {
      "text/html": [
       "<div>\n",
       "<style scoped>\n",
       "    .dataframe tbody tr th:only-of-type {\n",
       "        vertical-align: middle;\n",
       "    }\n",
       "\n",
       "    .dataframe tbody tr th {\n",
       "        vertical-align: top;\n",
       "    }\n",
       "\n",
       "    .dataframe thead th {\n",
       "        text-align: right;\n",
       "    }\n",
       "</style>\n",
       "<table border=\"1\" class=\"dataframe\">\n",
       "  <thead>\n",
       "    <tr style=\"text-align: right;\">\n",
       "      <th></th>\n",
       "      <th>season</th>\n",
       "      <th>league_id</th>\n",
       "      <th>away_team_goal</th>\n",
       "      <th>home_team_goal</th>\n",
       "      <th>team_goal</th>\n",
       "      <th>victory</th>\n",
       "      <th>not_victory</th>\n",
       "    </tr>\n",
       "  </thead>\n",
       "  <tbody>\n",
       "    <tr>\n",
       "      <th>0</th>\n",
       "      <td>2009/2010</td>\n",
       "      <td>24558</td>\n",
       "      <td>7</td>\n",
       "      <td>9</td>\n",
       "      <td>12</td>\n",
       "      <td>2416</td>\n",
       "      <td>1532</td>\n",
       "    </tr>\n",
       "    <tr>\n",
       "      <th>1</th>\n",
       "      <td>2015/2016</td>\n",
       "      <td>24558</td>\n",
       "      <td>9</td>\n",
       "      <td>10</td>\n",
       "      <td>12</td>\n",
       "      <td>2471</td>\n",
       "      <td>1459</td>\n",
       "    </tr>\n",
       "    <tr>\n",
       "      <th>2</th>\n",
       "      <td>2012/2013</td>\n",
       "      <td>24558</td>\n",
       "      <td>7</td>\n",
       "      <td>9</td>\n",
       "      <td>11</td>\n",
       "      <td>2407</td>\n",
       "      <td>1444</td>\n",
       "    </tr>\n",
       "    <tr>\n",
       "      <th>3</th>\n",
       "      <td>2010/2011</td>\n",
       "      <td>24558</td>\n",
       "      <td>8</td>\n",
       "      <td>10</td>\n",
       "      <td>10</td>\n",
       "      <td>2421</td>\n",
       "      <td>1520</td>\n",
       "    </tr>\n",
       "    <tr>\n",
       "      <th>4</th>\n",
       "      <td>2011/2012</td>\n",
       "      <td>24558</td>\n",
       "      <td>7</td>\n",
       "      <td>8</td>\n",
       "      <td>10</td>\n",
       "      <td>2402</td>\n",
       "      <td>1498</td>\n",
       "    </tr>\n",
       "    <tr>\n",
       "      <th>5</th>\n",
       "      <td>2013/2014</td>\n",
       "      <td>24558</td>\n",
       "      <td>7</td>\n",
       "      <td>7</td>\n",
       "      <td>10</td>\n",
       "      <td>2296</td>\n",
       "      <td>1404</td>\n",
       "    </tr>\n",
       "    <tr>\n",
       "      <th>6</th>\n",
       "      <td>2014/2015</td>\n",
       "      <td>24558</td>\n",
       "      <td>8</td>\n",
       "      <td>9</td>\n",
       "      <td>10</td>\n",
       "      <td>2475</td>\n",
       "      <td>1494</td>\n",
       "    </tr>\n",
       "    <tr>\n",
       "      <th>7</th>\n",
       "      <td>2008/2009</td>\n",
       "      <td>24558</td>\n",
       "      <td>7</td>\n",
       "      <td>7</td>\n",
       "      <td>9</td>\n",
       "      <td>2495</td>\n",
       "      <td>1566</td>\n",
       "    </tr>\n",
       "  </tbody>\n",
       "</table>\n",
       "</div>"
      ],
      "text/plain": [
       "      season  league_id  away_team_goal  home_team_goal  team_goal  victory  \\\n",
       "0  2009/2010      24558               7               9         12     2416   \n",
       "1  2015/2016      24558               9              10         12     2471   \n",
       "2  2012/2013      24558               7               9         11     2407   \n",
       "3  2010/2011      24558               8              10         10     2421   \n",
       "4  2011/2012      24558               7               8         10     2402   \n",
       "5  2013/2014      24558               7               7         10     2296   \n",
       "6  2014/2015      24558               8               9         10     2475   \n",
       "7  2008/2009      24558               7               7          9     2495   \n",
       "\n",
       "   not_victory  \n",
       "0         1532  \n",
       "1         1459  \n",
       "2         1444  \n",
       "3         1520  \n",
       "4         1498  \n",
       "5         1404  \n",
       "6         1494  \n",
       "7         1566  "
      ]
     },
     "metadata": {},
     "output_type": "display_data"
    }
   ],
   "source": [
    "#display(new_df_slah.sort_values(by='team_goal', ascending=False))\n",
    "#display(df_new.sort_values(by='victory', ascending=False))\n",
    "df_group=pd.merge(new_df_slah.groupby(['season']).agg(max).sort_values(by='team_goal', ascending=False),df_new.sort_values(by='victory', ascending=False), left_on=['season'], right_on=['season'])\n",
    "display(df_group)"
   ]
  },
  {
   "cell_type": "markdown",
   "metadata": {},
   "source": [
    "Самым зрелищным является сезон 2009/2010"
   ]
  },
  {
   "cell_type": "markdown",
   "metadata": {},
   "source": [
    "5. Насколько показатели, рассчитанные в шаге 3, взаимосвязаны? Оцените их корреляцию и постройте для них диаграмму рассеивания, чтобы ответить на этот вопрос."
   ]
  },
  {
   "cell_type": "code",
   "execution_count": null,
   "metadata": {},
   "outputs": [],
   "source": []
  },
  {
   "cell_type": "markdown",
   "metadata": {},
   "source": [
    "6. Выберите лигу с самым интересным сезоном. Чтобы разобраться в правилах футбола и не заскучать, посмотрим именно этот сезон! "
   ]
  },
  {
   "cell_type": "code",
   "execution_count": null,
   "metadata": {},
   "outputs": [],
   "source": []
  },
  {
   "cell_type": "markdown",
   "metadata": {},
   "source": [
    "7. Интересно, а можно ли гарантировать, что в этой лиге всегда такой интересный футбол? Оцените математическое ожидание и стандартное отклонение среднего количества голов за матч с помощью имеющейся выборки. Затем постройте ящик с усами. И сделайте вывод, можно ли быть уверенным, что матчи в этой лиге всегда результативные."
   ]
  },
  {
   "cell_type": "code",
   "execution_count": null,
   "metadata": {},
   "outputs": [],
   "source": []
  }
 ],
 "metadata": {
  "kernelspec": {
   "display_name": "Python 3",
   "language": "python",
   "name": "python3"
  },
  "language_info": {
   "codemirror_mode": {
    "name": "ipython",
    "version": 3
   },
   "file_extension": ".py",
   "mimetype": "text/x-python",
   "name": "python",
   "nbconvert_exporter": "python",
   "pygments_lexer": "ipython3",
   "version": "3.11.5"
  }
 },
 "nbformat": 4,
 "nbformat_minor": 2
}
