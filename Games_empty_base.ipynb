{
 "cells": [
  {
   "attachments": {},
   "cell_type": "markdown",
   "metadata": {},
   "source": [
    "## "
   ]
  },
  {
   "attachments": {},
   "cell_type": "markdown",
   "metadata": {},
   "source": [
    "# <center>Steam games<center>"
   ]
  },
  {
   "attachments": {},
   "cell_type": "markdown",
   "metadata": {},
   "source": [
    "Перед Вами представлен датасет с данными по играм на площадке `Steam`. Ниже присутствует описание данных. Вашей задачей будет провести исследовательский анализ данных и выполнить определенные задачи:\n",
    "* Провести предобработку данных (пропуски, дубликаты и т.д.) \n",
    "* Рассчитайте среднюю стоимость игр в `Steam`\n",
    "* Постройте диаграмму, которая иллюстрирует какое количество игр поддерживает английский язык, а какое — нет\n",
    "* Постройте диаграмму, которая иллюстрирует какое количество игр является бесплатными, а какое требуется покупать\n",
    "* Постройте сводную таблицу с количеством выпущенных игр за каждый год (постройте для неё гистограмму)\n",
    "* Найдите и постройте диаграмму для топ 10 разработчиков видеоигр и отдельно для топ 10 издателей видеоигр, начиная с 2017 года (включительно)\n",
    "* Необходимо вывести топ 6 игр по количеству пользователей (`owners`)\n",
    "\n",
    "\n",
    "**После выполнения каждого условия необходимо писать выводы. Также необходим общий вывод в конце о всей проделанной работе с краткими выводами из данных пунктов.**\n",
    "\n",
    "\n"
   ]
  },
  {
   "attachments": {},
   "cell_type": "markdown",
   "metadata": {},
   "source": [
    "## Описание данных"
   ]
  },
  {
   "attachments": {},
   "cell_type": "markdown",
   "metadata": {},
   "source": [
    "* `appid` — Уникальный идентификатор игры\n",
    "* `name` — Название игры\n",
    "* `release_date` — Год релиза игры\n",
    "* `english` — Поддержка английского языка\n",
    "* `developer` — Имя разработчика игры\n",
    "* `publisher` — Имя издателя игры\n",
    "* `platforms` — Названия поддерживаемых платформ\n",
    "* `required_age` - Рекомендуемый возраст\n",
    "* `genres` — Жанр игры\n",
    "* `positive_ratings` — Количество позитивных отзывов\n",
    "* `negative_ratings` — Количество отрицательных отзывов\n",
    "* `average_playtime` — Среднее время игры\n",
    "* `median_playtime` — Медианное время игры\n",
    "* `owners` — Количество владельцев игры, то есть людей, купивших игру\n",
    "* `price` — Стоимость игры\n"
   ]
  },
  {
   "attachments": {},
   "cell_type": "markdown",
   "metadata": {},
   "source": [
    "## Предобработка данных"
   ]
  },
  {
   "cell_type": "code",
   "execution_count": 3,
   "metadata": {},
   "outputs": [],
   "source": [
    "from matplotlib.colors import ListedColormap\n",
    "import pandas as pd\n",
    "import matplotlib.colors as matcol\n",
    "import matplotlib.pyplot as plt\n",
    "import seaborn as sns\n",
    "import numpy as np"
   ]
  },
  {
   "cell_type": "code",
   "execution_count": 4,
   "metadata": {},
   "outputs": [
    {
     "name": "stdout",
     "output_type": "stream",
     "text": [
      "количество дубликатов в датафрейме: 0\n"
     ]
    },
    {
     "data": {
      "text/plain": [
       "appid                0\n",
       "name                 0\n",
       "release_date         0\n",
       "english              0\n",
       "developer            1\n",
       "publisher           14\n",
       "platforms            0\n",
       "required_age         0\n",
       "genres               0\n",
       "achievements         0\n",
       "positive_ratings     0\n",
       "negative_ratings     0\n",
       "average_playtime     0\n",
       "median_playtime      0\n",
       "owners               0\n",
       "price                0\n",
       "dtype: int64"
      ]
     },
     "execution_count": 4,
     "metadata": {},
     "output_type": "execute_result"
    }
   ],
   "source": [
    "games_ds = pd.read_csv('C:/Users/molot/Downloads/Steam.csv')\n",
    "length=0\n",
    "for g in games_ds:\n",
    "    if g==True:\n",
    "        length += 1\n",
    "print(\"количество дубликатов в датафрейме:\", length)  # 2003\n",
    "games_ds.drop_duplicates()\n",
    "\n",
    "games_ds.isnull().sum()"
   ]
  },
  {
   "cell_type": "code",
   "execution_count": 16,
   "metadata": {},
   "outputs": [
    {
     "data": {
      "text/html": [
       "<div>\n",
       "<style scoped>\n",
       "    .dataframe tbody tr th:only-of-type {\n",
       "        vertical-align: middle;\n",
       "    }\n",
       "\n",
       "    .dataframe tbody tr th {\n",
       "        vertical-align: top;\n",
       "    }\n",
       "\n",
       "    .dataframe thead th {\n",
       "        text-align: right;\n",
       "    }\n",
       "</style>\n",
       "<table border=\"1\" class=\"dataframe\">\n",
       "  <thead>\n",
       "    <tr style=\"text-align: right;\">\n",
       "      <th></th>\n",
       "      <th>appid</th>\n",
       "      <th>name</th>\n",
       "      <th>release_date</th>\n",
       "      <th>english</th>\n",
       "      <th>developer</th>\n",
       "      <th>publisher</th>\n",
       "      <th>platforms</th>\n",
       "      <th>required_age</th>\n",
       "      <th>genres</th>\n",
       "      <th>achievements</th>\n",
       "      <th>positive_ratings</th>\n",
       "      <th>negative_ratings</th>\n",
       "      <th>average_playtime</th>\n",
       "      <th>median_playtime</th>\n",
       "      <th>owners</th>\n",
       "      <th>price</th>\n",
       "    </tr>\n",
       "  </thead>\n",
       "  <tbody>\n",
       "    <tr>\n",
       "      <th>17037</th>\n",
       "      <td>705070</td>\n",
       "      <td>FEMINAZI: 3000</td>\n",
       "      <td>2017-09-19</td>\n",
       "      <td>1</td>\n",
       "      <td>Paradox Terminal</td>\n",
       "      <td>Back To Basics Gaming</td>\n",
       "      <td>windows</td>\n",
       "      <td>0</td>\n",
       "      <td>Casual;Indie;Racing</td>\n",
       "      <td>12</td>\n",
       "      <td>26</td>\n",
       "      <td>33</td>\n",
       "      <td>1</td>\n",
       "      <td>1</td>\n",
       "      <td>0-20000</td>\n",
       "      <td>0.79</td>\n",
       "    </tr>\n",
       "    <tr>\n",
       "      <th>7772</th>\n",
       "      <td>432870</td>\n",
       "      <td>Special Tactics</td>\n",
       "      <td>2016-04-26</td>\n",
       "      <td>1</td>\n",
       "      <td>Beast Mode Games</td>\n",
       "      <td>Beast Mode Games</td>\n",
       "      <td>windows</td>\n",
       "      <td>0</td>\n",
       "      <td>Action;Indie;Strategy</td>\n",
       "      <td>10</td>\n",
       "      <td>39</td>\n",
       "      <td>11</td>\n",
       "      <td>0</td>\n",
       "      <td>0</td>\n",
       "      <td>0-20000</td>\n",
       "      <td>3.99</td>\n",
       "    </tr>\n",
       "    <tr>\n",
       "      <th>3050</th>\n",
       "      <td>294580</td>\n",
       "      <td>Freddi Fish and Luther's Water Worries</td>\n",
       "      <td>2014-05-01</td>\n",
       "      <td>1</td>\n",
       "      <td>Humongous Entertainment</td>\n",
       "      <td>Humongous Entertainment;Nightdive Studios</td>\n",
       "      <td>windows;mac;linux</td>\n",
       "      <td>0</td>\n",
       "      <td>Adventure;Casual</td>\n",
       "      <td>0</td>\n",
       "      <td>24</td>\n",
       "      <td>6</td>\n",
       "      <td>0</td>\n",
       "      <td>0</td>\n",
       "      <td>20000-50000</td>\n",
       "      <td>3.99</td>\n",
       "    </tr>\n",
       "    <tr>\n",
       "      <th>11574</th>\n",
       "      <td>545010</td>\n",
       "      <td>Ishin no Arashi / 維新の嵐</td>\n",
       "      <td>2017-03-21</td>\n",
       "      <td>0</td>\n",
       "      <td>KOEI TECMO GAMES CO., LTD.</td>\n",
       "      <td>KOEI TECMO GAMES CO., LTD.</td>\n",
       "      <td>windows</td>\n",
       "      <td>0</td>\n",
       "      <td>Strategy</td>\n",
       "      <td>0</td>\n",
       "      <td>2</td>\n",
       "      <td>4</td>\n",
       "      <td>0</td>\n",
       "      <td>0</td>\n",
       "      <td>0-20000</td>\n",
       "      <td>9.99</td>\n",
       "    </tr>\n",
       "    <tr>\n",
       "      <th>22458</th>\n",
       "      <td>863550</td>\n",
       "      <td>HITMAN™ 2</td>\n",
       "      <td>2018-11-13</td>\n",
       "      <td>1</td>\n",
       "      <td>IO Interactive A/S</td>\n",
       "      <td>Warner Bros Interactive Entertainment</td>\n",
       "      <td>windows</td>\n",
       "      <td>0</td>\n",
       "      <td>Action</td>\n",
       "      <td>125</td>\n",
       "      <td>10814</td>\n",
       "      <td>1756</td>\n",
       "      <td>636</td>\n",
       "      <td>514</td>\n",
       "      <td>5000000-10000000</td>\n",
       "      <td>44.99</td>\n",
       "    </tr>\n",
       "    <tr>\n",
       "      <th>17672</th>\n",
       "      <td>723020</td>\n",
       "      <td>3571 The Game</td>\n",
       "      <td>2018-01-01</td>\n",
       "      <td>1</td>\n",
       "      <td>FRAPPA STUDIO</td>\n",
       "      <td>FRAPPA STUDIO</td>\n",
       "      <td>windows;mac</td>\n",
       "      <td>0</td>\n",
       "      <td>Action;Adventure;Indie;RPG;Simulation;Early Ac...</td>\n",
       "      <td>0</td>\n",
       "      <td>0</td>\n",
       "      <td>5</td>\n",
       "      <td>0</td>\n",
       "      <td>0</td>\n",
       "      <td>0-20000</td>\n",
       "      <td>10.29</td>\n",
       "    </tr>\n",
       "    <tr>\n",
       "      <th>461</th>\n",
       "      <td>21640</td>\n",
       "      <td>Flock!</td>\n",
       "      <td>2009-04-07</td>\n",
       "      <td>1</td>\n",
       "      <td>Proper Games</td>\n",
       "      <td>Capcom</td>\n",
       "      <td>windows</td>\n",
       "      <td>0</td>\n",
       "      <td>Casual;Strategy</td>\n",
       "      <td>13</td>\n",
       "      <td>110</td>\n",
       "      <td>34</td>\n",
       "      <td>0</td>\n",
       "      <td>0</td>\n",
       "      <td>20000-50000</td>\n",
       "      <td>3.49</td>\n",
       "    </tr>\n",
       "    <tr>\n",
       "      <th>15899</th>\n",
       "      <td>673840</td>\n",
       "      <td>VR Formula</td>\n",
       "      <td>2017-08-17</td>\n",
       "      <td>1</td>\n",
       "      <td>SAT-BOX</td>\n",
       "      <td>SAT-BOX</td>\n",
       "      <td>windows</td>\n",
       "      <td>0</td>\n",
       "      <td>Action;Racing</td>\n",
       "      <td>0</td>\n",
       "      <td>14</td>\n",
       "      <td>4</td>\n",
       "      <td>0</td>\n",
       "      <td>0</td>\n",
       "      <td>0-20000</td>\n",
       "      <td>9.99</td>\n",
       "    </tr>\n",
       "    <tr>\n",
       "      <th>25025</th>\n",
       "      <td>954070</td>\n",
       "      <td>Beat Boxers</td>\n",
       "      <td>2018-10-23</td>\n",
       "      <td>1</td>\n",
       "      <td>BYU Animation -  Class of 2018</td>\n",
       "      <td>Brigham Young University</td>\n",
       "      <td>windows</td>\n",
       "      <td>0</td>\n",
       "      <td>Action;Free to Play</td>\n",
       "      <td>0</td>\n",
       "      <td>38</td>\n",
       "      <td>23</td>\n",
       "      <td>0</td>\n",
       "      <td>0</td>\n",
       "      <td>20000-50000</td>\n",
       "      <td>0.00</td>\n",
       "    </tr>\n",
       "    <tr>\n",
       "      <th>19898</th>\n",
       "      <td>787730</td>\n",
       "      <td>Adventure Game</td>\n",
       "      <td>2018-07-12</td>\n",
       "      <td>1</td>\n",
       "      <td>IVGEMENT</td>\n",
       "      <td>IVGEMENT</td>\n",
       "      <td>windows</td>\n",
       "      <td>0</td>\n",
       "      <td>Adventure</td>\n",
       "      <td>0</td>\n",
       "      <td>1</td>\n",
       "      <td>1</td>\n",
       "      <td>0</td>\n",
       "      <td>0</td>\n",
       "      <td>0-20000</td>\n",
       "      <td>15.00</td>\n",
       "    </tr>\n",
       "  </tbody>\n",
       "</table>\n",
       "</div>"
      ],
      "text/plain": [
       "        appid                                    name release_date  english  \\\n",
       "17037  705070                          FEMINAZI: 3000   2017-09-19        1   \n",
       "7772   432870                         Special Tactics   2016-04-26        1   \n",
       "3050   294580  Freddi Fish and Luther's Water Worries   2014-05-01        1   \n",
       "11574  545010                  Ishin no Arashi / 維新の嵐   2017-03-21        0   \n",
       "22458  863550                               HITMAN™ 2   2018-11-13        1   \n",
       "17672  723020                           3571 The Game   2018-01-01        1   \n",
       "461     21640                                  Flock!   2009-04-07        1   \n",
       "15899  673840                              VR Formula   2017-08-17        1   \n",
       "25025  954070                             Beat Boxers   2018-10-23        1   \n",
       "19898  787730                          Adventure Game   2018-07-12        1   \n",
       "\n",
       "                            developer  \\\n",
       "17037                Paradox Terminal   \n",
       "7772                 Beast Mode Games   \n",
       "3050          Humongous Entertainment   \n",
       "11574      KOEI TECMO GAMES CO., LTD.   \n",
       "22458              IO Interactive A/S   \n",
       "17672                   FRAPPA STUDIO   \n",
       "461                      Proper Games   \n",
       "15899                         SAT-BOX   \n",
       "25025  BYU Animation -  Class of 2018   \n",
       "19898                        IVGEMENT   \n",
       "\n",
       "                                       publisher          platforms  \\\n",
       "17037                      Back To Basics Gaming            windows   \n",
       "7772                            Beast Mode Games            windows   \n",
       "3050   Humongous Entertainment;Nightdive Studios  windows;mac;linux   \n",
       "11574                 KOEI TECMO GAMES CO., LTD.            windows   \n",
       "22458      Warner Bros Interactive Entertainment            windows   \n",
       "17672                              FRAPPA STUDIO        windows;mac   \n",
       "461                                       Capcom            windows   \n",
       "15899                                    SAT-BOX            windows   \n",
       "25025                   Brigham Young University            windows   \n",
       "19898                                   IVGEMENT            windows   \n",
       "\n",
       "       required_age                                             genres  \\\n",
       "17037             0                                Casual;Indie;Racing   \n",
       "7772              0                              Action;Indie;Strategy   \n",
       "3050              0                                   Adventure;Casual   \n",
       "11574             0                                           Strategy   \n",
       "22458             0                                             Action   \n",
       "17672             0  Action;Adventure;Indie;RPG;Simulation;Early Ac...   \n",
       "461               0                                    Casual;Strategy   \n",
       "15899             0                                      Action;Racing   \n",
       "25025             0                                Action;Free to Play   \n",
       "19898             0                                          Adventure   \n",
       "\n",
       "       achievements  positive_ratings  negative_ratings  average_playtime  \\\n",
       "17037            12                26                33                 1   \n",
       "7772             10                39                11                 0   \n",
       "3050              0                24                 6                 0   \n",
       "11574             0                 2                 4                 0   \n",
       "22458           125             10814              1756               636   \n",
       "17672             0                 0                 5                 0   \n",
       "461              13               110                34                 0   \n",
       "15899             0                14                 4                 0   \n",
       "25025             0                38                23                 0   \n",
       "19898             0                 1                 1                 0   \n",
       "\n",
       "       median_playtime            owners  price  \n",
       "17037                1           0-20000   0.79  \n",
       "7772                 0           0-20000   3.99  \n",
       "3050                 0       20000-50000   3.99  \n",
       "11574                0           0-20000   9.99  \n",
       "22458              514  5000000-10000000  44.99  \n",
       "17672                0           0-20000  10.29  \n",
       "461                  0       20000-50000   3.49  \n",
       "15899                0           0-20000   9.99  \n",
       "25025                0       20000-50000   0.00  \n",
       "19898                0           0-20000  15.00  "
      ]
     },
     "execution_count": 16,
     "metadata": {},
     "output_type": "execute_result"
    }
   ],
   "source": [
    "games_ds.sample(10)"
   ]
  },
  {
   "cell_type": "code",
   "execution_count": 17,
   "metadata": {},
   "outputs": [
    {
     "name": "stdout",
     "output_type": "stream",
     "text": [
      "<class 'pandas.core.frame.DataFrame'>\n",
      "RangeIndex: 27075 entries, 0 to 27074\n",
      "Data columns (total 16 columns):\n",
      " #   Column            Non-Null Count  Dtype  \n",
      "---  ------            --------------  -----  \n",
      " 0   appid             27075 non-null  int64  \n",
      " 1   name              27075 non-null  object \n",
      " 2   release_date      27075 non-null  object \n",
      " 3   english           27075 non-null  int64  \n",
      " 4   developer         27075 non-null  object \n",
      " 5   publisher         27075 non-null  object \n",
      " 6   platforms         27075 non-null  object \n",
      " 7   required_age      27075 non-null  int64  \n",
      " 8   genres            27075 non-null  object \n",
      " 9   achievements      27075 non-null  int64  \n",
      " 10  positive_ratings  27075 non-null  int64  \n",
      " 11  negative_ratings  27075 non-null  int64  \n",
      " 12  average_playtime  27075 non-null  int64  \n",
      " 13  median_playtime   27075 non-null  int64  \n",
      " 14  owners            27075 non-null  object \n",
      " 15  price             27075 non-null  float64\n",
      "dtypes: float64(1), int64(8), object(7)\n",
      "memory usage: 3.3+ MB\n"
     ]
    }
   ],
   "source": [
    "games_ds.info()"
   ]
  },
  {
   "cell_type": "code",
   "execution_count": 19,
   "metadata": {},
   "outputs": [
    {
     "data": {
      "text/plain": [
       "(27075, 16)"
      ]
     },
     "execution_count": 19,
     "metadata": {},
     "output_type": "execute_result"
    }
   ],
   "source": [
    "games_ds.shape"
   ]
  },
  {
   "cell_type": "code",
   "execution_count": 18,
   "metadata": {},
   "outputs": [
    {
     "name": "stdout",
     "output_type": "stream",
     "text": [
      "Названия колонок: ['appid', 'name', 'release_date', 'english', 'developer', 'publisher', 'platforms', 'required_age', 'genres', 'achievements', 'positive_ratings', 'negative_ratings', 'average_playtime', 'median_playtime', 'owners', 'price']\n",
      "Количество колонок: 16\n"
     ]
    }
   ],
   "source": [
    "column_names = list(games_ds.columns)\n",
    "print(\"Названия колонок:\", column_names)\n",
    "print(\"Количество колонок:\", len(column_names))"
   ]
  },
  {
   "cell_type": "code",
   "execution_count": 13,
   "metadata": {},
   "outputs": [
    {
     "data": {
      "text/plain": [
       "appid               0\n",
       "name                0\n",
       "release_date        0\n",
       "english             0\n",
       "developer           0\n",
       "publisher           0\n",
       "platforms           0\n",
       "required_age        0\n",
       "genres              0\n",
       "achievements        0\n",
       "positive_ratings    0\n",
       "negative_ratings    0\n",
       "average_playtime    0\n",
       "median_playtime     0\n",
       "owners              0\n",
       "price               0\n",
       "dtype: int64"
      ]
     },
     "execution_count": 13,
     "metadata": {},
     "output_type": "execute_result"
    }
   ],
   "source": [
    "games_ds.developer.fillna('Unknown', inplace=True)\n",
    "games_ds.publisher.fillna('Unknown publisher', inplace=True)\n",
    "games_ds.isna().sum()"
   ]
  },
  {
   "cell_type": "markdown",
   "metadata": {},
   "source": [
    "#### Выводы:\n",
    "В предоставленном датасете отсутствуют дубликаты. В столбце developer имеется 1 пропуск, в стоблце publisher 14 прокусков. Отсутствие данных можно обосновать неосведомленностью именем разработчика, издателя игры или намеренным желанием его скрыть. \n",
    "* В датасете имелся 1 пропуск в столбце developer и 14 пропусков в столбце publisher\n",
    "* В двтвфрейме 16 столбцов\n",
    "* 7 из них имеют тип данных object\n",
    "* 8 столбца имеют тип int64\n",
    "* 1 столбца имеют тип float64\n",
    "* Всего в датафрейме 27075 строк\n",
    "* Объем занимаемой памяти 3.3+ MB\n",
    "Пропуски были заполнены значениями 'Unknown publisher' и 'Unknown'"
   ]
  },
  {
   "attachments": {},
   "cell_type": "markdown",
   "metadata": {},
   "source": [
    "## Исследовательский анализ данных (EDA)"
   ]
  },
  {
   "cell_type": "code",
   "execution_count": 21,
   "metadata": {},
   "outputs": [
    {
     "name": "stdout",
     "output_type": "stream",
     "text": [
      "количество игр поддерживающих английский язык:  26564\n",
      "количество игр поддерживающих русский язык:  511\n"
     ]
    },
    {
     "data": {
      "text/plain": [
       "Text(0.5, 1.0, 'Соотношение игр поддерживающих английский и русский языках')"
      ]
     },
     "execution_count": 21,
     "metadata": {},
     "output_type": "execute_result"
    },
    {
     "data": {
      "image/png": "[encoded data removed]",
      "text/plain": [
       "<Figure size 800x800 with 1 Axes>"
      ]
     },
     "metadata": {},
     "output_type": "display_data"
    }
   ],
   "source": [
    "#количество игр, поддерживающих английский и русский язык \n",
    "print(\"количество игр поддерживающих английский язык: \",len(games_ds[games_ds['english'] ==1]))\n",
    "print(\"количество игр поддерживающих русский язык: \", len(games_ds[games_ds['english'] == 0]))\n",
    "sizes=[]\n",
    "sizes.append(len(games_ds[games_ds['english'] == 1]))\n",
    "sizes.append(len(games_ds[games_ds['english'] == 0]))\n",
    "colors = ['#FF69B4', '#00FFFF']\n",
    "labels=['английский','русский']\n",
    "fig, ax=plt.subplots(figsize=(8,8))\n",
    "wedges, texts, autotext=ax.pie(sizes, labels=labels,colors=colors,  autopct='%1.1f%%')\n",
    "\n",
    "ax.legend(wedges, labels, title='язык')\n",
    "ax.set_title('Соотношение игр поддерживающих английский и русский языках')"
   ]
  },
  {
   "cell_type": "code",
   "execution_count": 22,
   "metadata": {},
   "outputs": [
    {
     "name": "stdout",
     "output_type": "stream",
     "text": [
      "количество бесплатных игр:  2560\n",
      "количество платных игр:  24515\n"
     ]
    },
    {
     "data": {
      "text/plain": [
       "Text(0.5, 1.0, 'Соотношение платных и бесплатных игр')"
      ]
     },
     "execution_count": 22,
     "metadata": {},
     "output_type": "execute_result"
    },
    {
     "data": {
      "image/png": "[encoded data removed]",
      "text/plain": [
       "<Figure size 800x800 with 1 Axes>"
      ]
     },
     "metadata": {},
     "output_type": "display_data"
    }
   ],
   "source": [
    "#количество бесплатных и платных игр\n",
    "print(\"количество бесплатных игр: \", len(games_ds[games_ds['price'] == 0]))\n",
    "print(\"количество платных игр: \", len(games_ds['price'])-len(games_ds[games_ds['price'] == 0]))\n",
    "\n",
    "sizes = []\n",
    "sizes.append(len(games_ds[games_ds['price'] == 0]))\n",
    "sizes.append(len(games_ds[games_ds['english'] != 0]))\n",
    "colors = ['#FF69B4', '#00FFFF']\n",
    "labels = ['бесплатные', 'платные']\n",
    "fig, ax = plt.subplots(figsize=(8, 8))\n",
    "wedges, texts, autotext = ax.pie(\n",
    "    sizes, labels=labels, colors=colors,  autopct='%1.1f%%')\n",
    "\n",
    "ax.legend(wedges, labels, title='язык')\n",
    "ax.set_title('Соотношение платных и бесплатных игр')"
   ]
  },
  {
   "cell_type": "code",
   "execution_count": 6,
   "metadata": {},
   "outputs": [
    {
     "data": {
      "text/html": [
       "<div>\n",
       "<style scoped>\n",
       "    .dataframe tbody tr th:only-of-type {\n",
       "        vertical-align: middle;\n",
       "    }\n",
       "\n",
       "    .dataframe tbody tr th {\n",
       "        vertical-align: top;\n",
       "    }\n",
       "\n",
       "    .dataframe thead th {\n",
       "        text-align: right;\n",
       "    }\n",
       "</style>\n",
       "<table border=\"1\" class=\"dataframe\">\n",
       "  <thead>\n",
       "    <tr style=\"text-align: right;\">\n",
       "      <th></th>\n",
       "      <th>index</th>\n",
       "      <th>developer</th>\n",
       "      <th>price</th>\n",
       "    </tr>\n",
       "  </thead>\n",
       "  <tbody>\n",
       "    <tr>\n",
       "      <th>0</th>\n",
       "      <td>0</td>\n",
       "      <td>#workshop</td>\n",
       "      <td>2.89</td>\n",
       "    </tr>\n",
       "    <tr>\n",
       "      <th>1</th>\n",
       "      <td>1</td>\n",
       "      <td>'What Day is it?' Games</td>\n",
       "      <td>5.19</td>\n",
       "    </tr>\n",
       "    <tr>\n",
       "      <th>2</th>\n",
       "      <td>2</td>\n",
       "      <td>(STCG) Smoker The Car Game</td>\n",
       "      <td>0.79</td>\n",
       "    </tr>\n",
       "    <tr>\n",
       "      <th>3</th>\n",
       "      <td>3</td>\n",
       "      <td>+7 Software</td>\n",
       "      <td>5.49</td>\n",
       "    </tr>\n",
       "    <tr>\n",
       "      <th>4</th>\n",
       "      <td>4</td>\n",
       "      <td>+Mpact Games, LLC.</td>\n",
       "      <td>5.19</td>\n",
       "    </tr>\n",
       "    <tr>\n",
       "      <th>5</th>\n",
       "      <td>5</td>\n",
       "      <td>-Yodasaurus- Games</td>\n",
       "      <td>3.99</td>\n",
       "    </tr>\n",
       "    <tr>\n",
       "      <th>6</th>\n",
       "      <td>6</td>\n",
       "      <td>.M.Y.W.</td>\n",
       "      <td>2.30</td>\n",
       "    </tr>\n",
       "    <tr>\n",
       "      <th>7</th>\n",
       "      <td>7</td>\n",
       "      <td>.ez Games</td>\n",
       "      <td>0.79</td>\n",
       "    </tr>\n",
       "    <tr>\n",
       "      <th>8</th>\n",
       "      <td>8</td>\n",
       "      <td>07th Expansion</td>\n",
       "      <td>10.49</td>\n",
       "    </tr>\n",
       "    <tr>\n",
       "      <th>9</th>\n",
       "      <td>9</td>\n",
       "      <td>08 Games</td>\n",
       "      <td>4.99</td>\n",
       "    </tr>\n",
       "  </tbody>\n",
       "</table>\n",
       "</div>"
      ],
      "text/plain": [
       "   index                   developer  price\n",
       "0      0                   #workshop   2.89\n",
       "1      1     'What Day is it?' Games   5.19\n",
       "2      2  (STCG) Smoker The Car Game   0.79\n",
       "3      3                 +7 Software   5.49\n",
       "4      4          +Mpact Games, LLC.   5.19\n",
       "5      5          -Yodasaurus- Games   3.99\n",
       "6      6                     .M.Y.W.   2.30\n",
       "7      7                   .ez Games   0.79\n",
       "8      8              07th Expansion  10.49\n",
       "9      9                    08 Games   4.99"
      ]
     },
     "execution_count": 6,
     "metadata": {},
     "output_type": "execute_result"
    }
   ],
   "source": [
    "#средняя стоимость игр у каждого разработчика\n",
    "mean_price = games_ds.groupby(by='developer', as_index=False)[\n",
    "    'price'].mean().head(10).reset_index()\n",
    "pd.options.display.float_format = '{:.2f}'.format\n",
    "mean_price"
   ]
  },
  {
   "cell_type": "code",
   "execution_count": 125,
   "metadata": {},
   "outputs": [
    {
     "name": "stdout",
     "output_type": "stream",
     "text": [
      "топ самых 'дорогих' разработчиков. Средняя стоимость игр каждого\n"
     ]
    },
    {
     "data": {
      "text/html": [
       "<div>\n",
       "<style scoped>\n",
       "    .dataframe tbody tr th:only-of-type {\n",
       "        vertical-align: middle;\n",
       "    }\n",
       "\n",
       "    .dataframe tbody tr th {\n",
       "        vertical-align: top;\n",
       "    }\n",
       "\n",
       "    .dataframe thead th {\n",
       "        text-align: right;\n",
       "    }\n",
       "</style>\n",
       "<table border=\"1\" class=\"dataframe\">\n",
       "  <thead>\n",
       "    <tr style=\"text-align: right;\">\n",
       "      <th></th>\n",
       "      <th>developer</th>\n",
       "      <th>price</th>\n",
       "    </tr>\n",
       "  </thead>\n",
       "  <tbody>\n",
       "    <tr>\n",
       "      <th>13625</th>\n",
       "      <td>Suomen Kuljetusturva Oy</td>\n",
       "      <td>421.99</td>\n",
       "    </tr>\n",
       "    <tr>\n",
       "      <th>12668</th>\n",
       "      <td>SideFX</td>\n",
       "      <td>209.99</td>\n",
       "    </tr>\n",
       "    <tr>\n",
       "      <th>15962</th>\n",
       "      <td>YoYo Games Ltd.</td>\n",
       "      <td>162.49</td>\n",
       "    </tr>\n",
       "    <tr>\n",
       "      <th>10858</th>\n",
       "      <td>Pixel Wonder</td>\n",
       "      <td>154.99</td>\n",
       "    </tr>\n",
       "    <tr>\n",
       "      <th>2420</th>\n",
       "      <td>Capt. McCay Soft</td>\n",
       "      <td>154.99</td>\n",
       "    </tr>\n",
       "    <tr>\n",
       "      <th>131</th>\n",
       "      <td>3Dflow SRL</td>\n",
       "      <td>154.99</td>\n",
       "    </tr>\n",
       "    <tr>\n",
       "      <th>2419</th>\n",
       "      <td>Capt McCay Soft</td>\n",
       "      <td>154.99</td>\n",
       "    </tr>\n",
       "    <tr>\n",
       "      <th>2671</th>\n",
       "      <td>Chroma Coda</td>\n",
       "      <td>98.99</td>\n",
       "    </tr>\n",
       "    <tr>\n",
       "      <th>3225</th>\n",
       "      <td>CyberLink</td>\n",
       "      <td>79.99</td>\n",
       "    </tr>\n",
       "    <tr>\n",
       "      <th>7717</th>\n",
       "      <td>Knife Edge Software</td>\n",
       "      <td>78.99</td>\n",
       "    </tr>\n",
       "  </tbody>\n",
       "</table>\n",
       "</div>"
      ],
      "text/plain": [
       "                     developer   price\n",
       "13625  Suomen Kuljetusturva Oy  421.99\n",
       "12668                   SideFX  209.99\n",
       "15962          YoYo Games Ltd.  162.49\n",
       "10858             Pixel Wonder  154.99\n",
       "2420          Capt. McCay Soft  154.99\n",
       "131                 3Dflow SRL  154.99\n",
       "2419           Capt McCay Soft  154.99\n",
       "2671               Chroma Coda   98.99\n",
       "3225                 CyberLink   79.99\n",
       "7717       Knife Edge Software   78.99"
      ]
     },
     "execution_count": 125,
     "metadata": {},
     "output_type": "execute_result"
    }
   ],
   "source": [
    "# топ самых \"дорогих\" разработчиков. Средняя стоимость игр каждого\n",
    "max_price = games_ds.groupby(by='developer', as_index=False)[\n",
    "    'price'].mean().sort_values('price', ascending=False).head(10)\n",
    "print(\"топ самых 'дорогих' разработчиков. Средняя стоимость игр каждого\")\n",
    "max_price"
   ]
  },
  {
   "cell_type": "code",
   "execution_count": 128,
   "metadata": {},
   "outputs": [
    {
     "data": {
      "text/html": [
       "<div>\n",
       "<style scoped>\n",
       "    .dataframe tbody tr th:only-of-type {\n",
       "        vertical-align: middle;\n",
       "    }\n",
       "\n",
       "    .dataframe tbody tr th {\n",
       "        vertical-align: top;\n",
       "    }\n",
       "\n",
       "    .dataframe thead th {\n",
       "        text-align: right;\n",
       "    }\n",
       "</style>\n",
       "<table border=\"1\" class=\"dataframe\">\n",
       "  <thead>\n",
       "    <tr style=\"text-align: right;\">\n",
       "      <th></th>\n",
       "      <th>appid</th>\n",
       "      <th>name</th>\n",
       "      <th>developer</th>\n",
       "      <th>publisher</th>\n",
       "      <th>owners</th>\n",
       "    </tr>\n",
       "  </thead>\n",
       "  <tbody>\n",
       "    <tr>\n",
       "      <th>25</th>\n",
       "      <td>730</td>\n",
       "      <td>Counter-Strike: Global Offensive</td>\n",
       "      <td>Valve;Hidden Path Entertainment</td>\n",
       "      <td>Valve</td>\n",
       "      <td>50000000-100000000</td>\n",
       "    </tr>\n",
       "    <tr>\n",
       "      <th>12836</th>\n",
       "      <td>578080</td>\n",
       "      <td>PLAYERUNKNOWN'S BATTLEGROUNDS</td>\n",
       "      <td>PUBG Corporation</td>\n",
       "      <td>PUBG Corporation</td>\n",
       "      <td>50000000-100000000</td>\n",
       "    </tr>\n",
       "    <tr>\n",
       "      <th>258</th>\n",
       "      <td>10180</td>\n",
       "      <td>Call of Duty®: Modern Warfare® 2</td>\n",
       "      <td>Infinity Ward;Aspyr (Mac)</td>\n",
       "      <td>Activision;Aspyr (Mac)</td>\n",
       "      <td>5000000-10000000</td>\n",
       "    </tr>\n",
       "    <tr>\n",
       "      <th>2602</th>\n",
       "      <td>278360</td>\n",
       "      <td>A Story About My Uncle</td>\n",
       "      <td>Gone North Games</td>\n",
       "      <td>Coffee Stain Publishing</td>\n",
       "      <td>5000000-10000000</td>\n",
       "    </tr>\n",
       "    <tr>\n",
       "      <th>903</th>\n",
       "      <td>49520</td>\n",
       "      <td>Borderlands 2</td>\n",
       "      <td>Gearbox Software;Aspyr (Mac);Aspyr (Linux)</td>\n",
       "      <td>2K;Aspyr (Mac);Aspyr (Linux)</td>\n",
       "      <td>5000000-10000000</td>\n",
       "    </tr>\n",
       "    <tr>\n",
       "      <th>1596</th>\n",
       "      <td>227300</td>\n",
       "      <td>Euro Truck Simulator 2</td>\n",
       "      <td>SCS Software</td>\n",
       "      <td>SCS Software</td>\n",
       "      <td>5000000-10000000</td>\n",
       "    </tr>\n",
       "  </tbody>\n",
       "</table>\n",
       "</div>"
      ],
      "text/plain": [
       "        appid                              name  \\\n",
       "25        730  Counter-Strike: Global Offensive   \n",
       "12836  578080     PLAYERUNKNOWN'S BATTLEGROUNDS   \n",
       "258     10180  Call of Duty®: Modern Warfare® 2   \n",
       "2602   278360            A Story About My Uncle   \n",
       "903     49520                     Borderlands 2   \n",
       "1596   227300            Euro Truck Simulator 2   \n",
       "\n",
       "                                        developer  \\\n",
       "25                Valve;Hidden Path Entertainment   \n",
       "12836                            PUBG Corporation   \n",
       "258                     Infinity Ward;Aspyr (Mac)   \n",
       "2602                             Gone North Games   \n",
       "903    Gearbox Software;Aspyr (Mac);Aspyr (Linux)   \n",
       "1596                                 SCS Software   \n",
       "\n",
       "                          publisher              owners  \n",
       "25                            Valve  50000000-100000000  \n",
       "12836              PUBG Corporation  50000000-100000000  \n",
       "258          Activision;Aspyr (Mac)    5000000-10000000  \n",
       "2602        Coffee Stain Publishing    5000000-10000000  \n",
       "903    2K;Aspyr (Mac);Aspyr (Linux)    5000000-10000000  \n",
       "1596                   SCS Software    5000000-10000000  "
      ]
     },
     "execution_count": 128,
     "metadata": {},
     "output_type": "execute_result"
    }
   ],
   "source": [
    "# самые популярные игры\n",
    "cols = [0,1, 4, 5, 14]\n",
    "df = games_ds[games_ds.columns[cols]]\n",
    "games_price_top = df.sort_values('owners', ascending=False).head(6)\n",
    "games_price_top\n"
   ]
  },
  {
   "cell_type": "code",
   "execution_count": 101,
   "metadata": {},
   "outputs": [
    {
     "name": "stderr",
     "output_type": "stream",
     "text": [
      "C:\\Users\\molot\\AppData\\Local\\Temp\\ipykernel_9672\\2045754005.py:11: UserWarning: set_ticklabels() should only be used with a fixed number of ticks, i.e. after set_ticks() or using a FixedLocator.\n",
      "  lineplot.set_xticklabels(df_games_year['year'], rotation=40)\n"
     ]
    },
    {
     "data": {
      "text/plain": [
       "Text(0.5, 1.0, 'График изменения количества выпущенных игр')"
      ]
     },
     "execution_count": 101,
     "metadata": {},
     "output_type": "execute_result"
    },
    {
     "data": {
      "image/png": "[encoded data removed]",
      "text/plain": [
       "<Figure size 640x480 with 1 Axes>"
      ]
     },
     "metadata": {},
     "output_type": "display_data"
    }
   ],
   "source": [
    "df_games_year = games_ds.groupby('year').size().reset_index(name='count')\n",
    "count_labels = [f'{label}: {count}' for label, count in zip(\n",
    "    df_games_year['year'].values, df_games_year['count'].values)]\n",
    "\n",
    "df = pd.DataFrame(dict(\n",
    "\n",
    "    x=df_games_year['year'],\n",
    "    y=df_games_year['count']\n",
    "))\n",
    "lineplot=sns.barplot(x=df_games_year['year'], y=df_games_year['count'])\n",
    "lineplot.set_xticklabels(df_games_year['year'], rotation=40)\n",
    "\n",
    "plt.title(\"График изменения количества выпущенных игр\")"
   ]
  },
  {
   "cell_type": "code",
   "execution_count": 132,
   "metadata": {},
   "outputs": [
    {
     "name": "stderr",
     "output_type": "stream",
     "text": [
      "C:\\Users\\molot\\AppData\\Local\\Temp\\ipykernel_9672\\339033292.py:6: UserWarning: Boolean Series key will be reindexed to match DataFrame index.\n",
      "  display(top_publisher[games_ds['year'] > 2015].head(10))\n"
     ]
    },
    {
     "data": {
      "text/html": [
       "<div>\n",
       "<style scoped>\n",
       "    .dataframe tbody tr th:only-of-type {\n",
       "        vertical-align: middle;\n",
       "    }\n",
       "\n",
       "    .dataframe tbody tr th {\n",
       "        vertical-align: top;\n",
       "    }\n",
       "\n",
       "    .dataframe thead th {\n",
       "        text-align: right;\n",
       "    }\n",
       "</style>\n",
       "<table border=\"1\" class=\"dataframe\">\n",
       "  <thead>\n",
       "    <tr style=\"text-align: right;\">\n",
       "      <th></th>\n",
       "      <th>publisher</th>\n",
       "      <th>owners</th>\n",
       "    </tr>\n",
       "  </thead>\n",
       "  <tbody>\n",
       "    <tr>\n",
       "      <th>12836</th>\n",
       "      <td>PUBG Corporation</td>\n",
       "      <td>50000000-100000000</td>\n",
       "    </tr>\n",
       "    <tr>\n",
       "      <th>6046</th>\n",
       "      <td>Behaviour Digital Inc.</td>\n",
       "      <td>5000000-10000000</td>\n",
       "    </tr>\n",
       "    <tr>\n",
       "      <th>2016</th>\n",
       "      <td>Facepunch Studios</td>\n",
       "      <td>5000000-10000000</td>\n",
       "    </tr>\n",
       "    <tr>\n",
       "      <th>3864</th>\n",
       "      <td>Klei Entertainment</td>\n",
       "      <td>5000000-10000000</td>\n",
       "    </tr>\n",
       "    <tr>\n",
       "      <th>4712</th>\n",
       "      <td>Studio Wildcard</td>\n",
       "      <td>5000000-10000000</td>\n",
       "    </tr>\n",
       "    <tr>\n",
       "      <th>7737</th>\n",
       "      <td>Kristjan Skutta</td>\n",
       "      <td>5000000-10000000</td>\n",
       "    </tr>\n",
       "    <tr>\n",
       "      <th>22458</th>\n",
       "      <td>Warner Bros Interactive Entertainment</td>\n",
       "      <td>5000000-10000000</td>\n",
       "    </tr>\n",
       "    <tr>\n",
       "      <th>12965</th>\n",
       "      <td>CAPCOM Co., Ltd.</td>\n",
       "      <td>5000000-10000000</td>\n",
       "    </tr>\n",
       "    <tr>\n",
       "      <th>11994</th>\n",
       "      <td>Fredaikis AB</td>\n",
       "      <td>5000000-10000000</td>\n",
       "    </tr>\n",
       "    <tr>\n",
       "      <th>11791</th>\n",
       "      <td>NS STUDIO</td>\n",
       "      <td>5000000-10000000</td>\n",
       "    </tr>\n",
       "  </tbody>\n",
       "</table>\n",
       "</div>"
      ],
      "text/plain": [
       "                                   publisher              owners\n",
       "12836                       PUBG Corporation  50000000-100000000\n",
       "6046                  Behaviour Digital Inc.    5000000-10000000\n",
       "2016                       Facepunch Studios    5000000-10000000\n",
       "3864                      Klei Entertainment    5000000-10000000\n",
       "4712                         Studio Wildcard    5000000-10000000\n",
       "7737                         Kristjan Skutta    5000000-10000000\n",
       "22458  Warner Bros Interactive Entertainment    5000000-10000000\n",
       "12965                       CAPCOM Co., Ltd.    5000000-10000000\n",
       "11994                           Fredaikis AB    5000000-10000000\n",
       "11791                              NS STUDIO    5000000-10000000"
      ]
     },
     "metadata": {},
     "output_type": "display_data"
    }
   ],
   "source": [
    "# топ самых попуярных разработчиков\n",
    "cols = [5, 14]\n",
    "df = games_ds[games_ds.columns[cols]]\n",
    "top_publisher = df.groupby(by='publisher').head(\n",
    "    10).sort_values(by='owners', ascending=False)\n",
    "display(top_publisher[games_ds['year'] > 2015].head(10))"
   ]
  },
  {
   "attachments": {},
   "cell_type": "markdown",
   "metadata": {},
   "source": [
    "## Вывод"
   ]
  },
  {
   "cell_type": "markdown",
   "metadata": {},
   "source": [
    "Был проведен анализ данных платформы Steam. В ходе анализа была проведена предобработка данных и исследовательский анализ данных.\n",
    "Датасет имеет хорошее качество данных после обработки, несмотря на наличие начальных пропусков. Рынок игр в steam значитель вырос начиная с 1997 года и был на пике в 2018 (по количеству выпущенных игр). На платформе представлены как бесплатные игры, так и те, которые требуют покупки, при чем вторая категория преобладает (2560 и 24515 игр). \n",
    "\n",
    "Результаты аенализа начального датасета:\n",
    "\n",
    "\n",
    "Основные результаты анализа:\n",
    "* Игр, поддерживающих английский язык гораздо больше, чем поодерживающих русский, а именно 26564 и 511\n",
    "* Самой популярной игрой является игра Counter-Strike: Global Offensive\t\n",
    "* Компанией с самыми дорогими играми ялвяется Suomen Kuljetusturva Oy\n",
    "* Бесплатных игр меньше, чем платных\n",
    "* Самым популярным разработчиком является компания PUBG Corporation (по количестку владельцев игр)\n"
   ]
  }
 ],
 "metadata": {
  "kernelspec": {
   "display_name": "Python 3",
   "language": "python",
   "name": "python3"
  },
  "language_info": {
   "codemirror_mode": {
    "name": "ipython",
    "version": 3
   },
   "file_extension": ".py",
   "mimetype": "text/x-python",
   "name": "python",
   "nbconvert_exporter": "python",
   "pygments_lexer": "ipython3",
   "version": "3.12.1"
  },
  "orig_nbformat": 4
 },
 "nbformat": 4,
 "nbformat_minor": 2
}
